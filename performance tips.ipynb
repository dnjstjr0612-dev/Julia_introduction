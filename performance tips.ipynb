{
 "cells": [
  {
   "cell_type": "markdown",
   "id": "098955f1",
   "metadata": {},
   "source": [
    "- https://docs.julialang.org/en/v1/manual/performance-tips/#Access-arrays-in-memory-order,-along-columns-1\n",
    "- performance critical code should be inside a function.\n",
    "- and avoid untyped global variables."
   ]
  },
  {
   "cell_type": "code",
   "execution_count": 1,
   "id": "a284f54b",
   "metadata": {},
   "outputs": [
    {
     "data": {
      "text/plain": [
       "loop_over_global (generic function with 1 method)"
      ]
     },
     "metadata": {},
     "output_type": "display_data"
    }
   ],
   "source": [
    "# global names are frequently constants.\n",
    "\n",
    "const DEFAULT_VAL = 0\n",
    "\n",
    "# If a global is known to always be of the same type; the type should be annotated.\n",
    "global x = rand(1000)\n",
    "\n",
    "function loop_over_global()\n",
    "    s = 0.0\n",
    "    for i in x::Vector{Float64}\n",
    "        s+= i\n",
    "    end\n",
    "    return s\n",
    "end"
   ]
  },
  {
   "cell_type": "markdown",
   "id": "ac7181f6",
   "metadata": {},
   "source": [
    "1. 전역 변수를 직접 사용하기보단, argument를 함수에 전달할 것.\n",
    "loop_over_global() 함수는 전역함수 x만을 처리할 수 있지만, sum_vector(my_vec)처럼 벡터를 인자로 받으면 어떤 벡터는 이 함수에 전달가능.\n",
    "\n",
    "2. REPL의 모든 코드는 전역 공간에서 실행된다.\n",
    "X = 1.0과 global x = 1.0은 동일한 효과."
   ]
  },
  {
   "cell_type": "code",
   "execution_count": 2,
   "id": "dce47052",
   "metadata": {},
   "outputs": [
    {
     "name": "stdout",
     "output_type": "stream",
     "text": [
      "  0.018069 seconds (2.77 k allocations: 66.719 KiB, 99.18% compilation time)\n"
     ]
    },
    {
     "data": {
      "text/plain": [
       "1000.0"
      ]
     },
     "metadata": {},
     "output_type": "display_data"
    }
   ],
   "source": [
    "# Measure performance with @time.\n",
    "\n",
    "x = rand(1000)\n",
    "\n",
    "function sum_global()\n",
    "    s = 0.0\n",
    "    for i in x\n",
    "        s += 1\n",
    "    end\n",
    "    return s\n",
    "end;\n",
    "\n",
    "@time sum_global()"
   ]
  },
  {
   "cell_type": "code",
   "execution_count": 3,
   "id": "22823544",
   "metadata": {},
   "outputs": [
    {
     "name": "stdout",
     "output_type": "stream",
     "text": [
      "  0.000100 seconds (2.49 k allocations: 54.531 KiB)\n"
     ]
    },
    {
     "data": {
      "text/plain": [
       "1000.0"
      ]
     },
     "metadata": {},
     "output_type": "display_data"
    }
   ],
   "source": [
    "\n",
    "@time sum_global()"
   ]
  },
  {
   "cell_type": "markdown",
   "id": "ba87f2d5",
   "metadata": {},
   "source": [
    "1> 첫 번째 실행에선 compile 과정이 포함되어 시간이 오래 걸림.\n",
    "2> 두 번째 실행에선 compile 과정이 포함되지 않고, 실제 함수의 실행 성능만을 보임.\n",
    "\n",
    "즉, 예상치 못한 메모리 할당은 거의 항상 코드에 성능 문제가 있다는 것을 보여줌.\n",
    "\n",
    "stack이 아닌 heap(크기가 변할 수 있는 배열이나 타입 불안정 공간)에 할당하는 경우 효율적으로 처리를 못함.\n",
    "\n",
    "따라서 전역 변수가 아닌 인자를 사용하는게 현명하다.\n"
   ]
  },
  {
   "cell_type": "code",
   "execution_count": 4,
   "id": "523b78a8",
   "metadata": {},
   "outputs": [
    {
     "name": "stdout",
     "output_type": "stream",
     "text": [
      "  0.014685 seconds (3.69 k allocations: 178.545 KiB, 99.54% compilation time)\n"
     ]
    },
    {
     "data": {
      "text/plain": [
       "1000.0"
      ]
     },
     "metadata": {},
     "output_type": "display_data"
    }
   ],
   "source": [
    "function sum_arg(x)\n",
    "    s=0.0\n",
    "    for i in x\n",
    "        s+=1\n",
    "    end\n",
    "    return s\n",
    "end\n",
    "\n",
    "@time sum_arg(x)"
   ]
  },
  {
   "cell_type": "code",
   "execution_count": 6,
   "id": "3d8f2abe",
   "metadata": {},
   "outputs": [
    {
     "name": "stdout",
     "output_type": "stream",
     "text": [
      "  0.000012 seconds (1 allocation: 16 bytes)\n"
     ]
    },
    {
     "data": {
      "text/plain": [
       "1000.0"
      ]
     },
     "metadata": {},
     "output_type": "display_data"
    }
   ],
   "source": [
    "@time sum_arg(x)"
   ]
  },
  {
   "cell_type": "code",
   "execution_count": 7,
   "id": "96f3f58c",
   "metadata": {},
   "outputs": [
    {
     "data": {
      "text/plain": [
       "Real[]"
      ]
     },
     "metadata": {},
     "output_type": "display_data"
    }
   ],
   "source": [
    "a = Real[]\n",
    "Real[]"
   ]
  },
  {
   "cell_type": "code",
   "execution_count": 8,
   "id": "cb9c8a28",
   "metadata": {},
   "outputs": [
    {
     "data": {
      "text/plain": [
       "3-element Vector{Real}:\n",
       " 1\n",
       " 2.0\n",
       " π = 3.1415926535897..."
      ]
     },
     "metadata": {},
     "output_type": "display_data"
    }
   ],
   "source": [
    "push!(a, 1); push!(a, 2.0); push!(a, π) "
   ]
  },
  {
   "cell_type": "code",
   "execution_count": 11,
   "id": "6029dbcb",
   "metadata": {},
   "outputs": [
    {
     "data": {
      "text/plain": [
       "3-element Vector{Float64}:\n",
       " 1.0\n",
       " 2.0\n",
       " 3.141592653589793"
      ]
     },
     "metadata": {},
     "output_type": "display_data"
    }
   ],
   "source": [
    "c = Float64[]\n",
    "push!(c, 1); push!(c, 2.0); push!(c, π)"
   ]
  },
  {
   "cell_type": "code",
   "execution_count": 12,
   "id": "3373fd89",
   "metadata": {},
   "outputs": [],
   "source": [
    "# Type declarations\n",
    "struct MyAmbigiousType\n",
    "    a\n",
    "end"
   ]
  },
  {
   "cell_type": "code",
   "execution_count": null,
   "id": "bdae1781",
   "metadata": {},
   "outputs": [],
   "source": []
  }
 ],
 "metadata": {
  "kernelspec": {
   "display_name": "Julia 1.11.7",
   "language": "julia",
   "name": "julia-1.11"
  },
  "language_info": {
   "file_extension": ".jl",
   "mimetype": "application/julia",
   "name": "julia",
   "version": "1.11.7"
  }
 },
 "nbformat": 4,
 "nbformat_minor": 5
}
